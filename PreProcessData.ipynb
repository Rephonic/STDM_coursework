{
  "nbformat": 4,
  "nbformat_minor": 0,
  "metadata": {
    "colab": {
      "provenance": [],
      "authorship_tag": "ABX9TyNASNW+O3vjLltzswTeFPCu",
      "include_colab_link": true
    },
    "kernelspec": {
      "name": "python3",
      "display_name": "Python 3"
    },
    "language_info": {
      "name": "python"
    }
  },
  "cells": [
    {
      "cell_type": "markdown",
      "metadata": {
        "id": "view-in-github",
        "colab_type": "text"
      },
      "source": [
        "<a href=\"https://colab.research.google.com/github/Rephonic/STDM_coursework/blob/main/PreProcessData.ipynb\" target=\"_parent\"><img src=\"https://colab.research.google.com/assets/colab-badge.svg\" alt=\"Open In Colab\"/></a>"
      ]
    },
    {
      "cell_type": "code",
      "execution_count": null,
      "metadata": {
        "id": "7Zd7ajFtD0Bj"
      },
      "outputs": [],
      "source": [
        "import pandas as pd\n",
        "import geopandas as gpd\n",
        "import matplotlib.pyplot as plt\n",
        "from shapely.geometry import Point\n",
        "import seaborn as sns\n",
        "import numpy as np\n",
        "from folium.plugins import HeatMap\n",
        "import folium\n"
      ]
    },
    {
      "cell_type": "code",
      "source": [
        "from google.colab import drive\n",
        "\n",
        "drive.mount('/content/drive')"
      ],
      "metadata": {
        "colab": {
          "base_uri": "https://localhost:8080/"
        },
        "id": "Qn305-9AyI4C",
        "outputId": "a9b34367-14ac-42de-e3fd-5af673a71e9c"
      },
      "execution_count": null,
      "outputs": [
        {
          "output_type": "stream",
          "name": "stdout",
          "text": [
            "Mounted at /content/drive\n"
          ]
        }
      ]
    },
    {
      "cell_type": "code",
      "source": [
        "# File is too large, not able to upload to github\n",
        "# shared link of Google Drive:\n",
        "#https://drive.google.com/drive/folders/1CDMo5iFs5LIkNssqT6r6uwU1kJB6ii0d?usp=sharing\n",
        "\n",
        "df = pd.read_csv('/content/drive/MyDrive/STDM/Crimes_10_year.csv')"
      ],
      "metadata": {
        "id": "krqWOb63yOxW"
      },
      "execution_count": null,
      "outputs": []
    },
    {
      "cell_type": "code",
      "source": [
        "df.head()"
      ],
      "metadata": {
        "colab": {
          "base_uri": "https://localhost:8080/",
          "height": 568
        },
        "id": "6ROQRmpzBT0o",
        "outputId": "5cc009f6-4294-41bd-9a7d-e93a079857c1"
      },
      "execution_count": null,
      "outputs": [
        {
          "output_type": "execute_result",
          "data": {
            "text/plain": [
              "         ID Case Number                    Date                 Block  IUCR  \\\n",
              "0  13130561    JG329032  01/01/2014 12:00:00 AM  033XX W LEXINGTON ST  1562   \n",
              "1  10778567    HZ545087  01/01/2014 12:00:00 AM       019XX E 79TH ST  1585   \n",
              "2  12357943    JE220843  01/01/2014 12:00:00 AM       026XX W 13TH ST  1752   \n",
              "3  11729541    JC314736  01/01/2014 12:00:00 AM      045XX N HAZEL ST  1154   \n",
              "4  12729039    JF278612  01/01/2014 12:00:00 AM     042XX W MONROE ST  1754   \n",
              "\n",
              "                 Primary Type  \\\n",
              "0                 SEX OFFENSE   \n",
              "1                 SEX OFFENSE   \n",
              "2  OFFENSE INVOLVING CHILDREN   \n",
              "3          DECEPTIVE PRACTICE   \n",
              "4  OFFENSE INVOLVING CHILDREN   \n",
              "\n",
              "                                         Description Location Description  \\\n",
              "0                   AGGRAVATED CRIMINAL SEXUAL ABUSE            APARTMENT   \n",
              "1                                              OTHER            APARTMENT   \n",
              "2  AGGRAVATED CRIMINAL SEXUAL ABUSE BY FAMILY MEMBER            APARTMENT   \n",
              "3            FINANCIAL IDENTITY THEFT $300 AND UNDER            APARTMENT   \n",
              "4  AGGRAVATED SEXUAL ASSAULT OF CHILD BY FAMILY M...            RESIDENCE   \n",
              "\n",
              "   Arrest  Domestic  ...  Ward  Community Area  FBI Code  X Coordinate  \\\n",
              "0   False      True  ...  24.0            27.0        17           NaN   \n",
              "1   False      True  ...   8.0            43.0        17           NaN   \n",
              "2   False      True  ...  28.0            29.0        17           NaN   \n",
              "3   False     False  ...  46.0             3.0        11           NaN   \n",
              "4   False      True  ...  28.0            26.0        02           NaN   \n",
              "\n",
              "  Y Coordinate  Year              Updated On  Latitude Longitude  Location  \n",
              "0          NaN  2014  07/06/2023 03:48:21 PM       NaN       NaN       NaN  \n",
              "1          NaN  2014  09/07/2021 03:41:02 PM       NaN       NaN       NaN  \n",
              "2          NaN  2014  05/06/2021 03:40:12 PM       NaN       NaN       NaN  \n",
              "3          NaN  2014  06/21/2019 03:40:42 PM       NaN       NaN       NaN  \n",
              "4          NaN  2014  11/16/2023 03:40:49 PM       NaN       NaN       NaN  \n",
              "\n",
              "[5 rows x 22 columns]"
            ],
            "text/html": [
              "\n",
              "  <div id=\"df-b8ab3021-fb62-4c09-a59d-5c8e9ca842ec\" class=\"colab-df-container\">\n",
              "    <div>\n",
              "<style scoped>\n",
              "    .dataframe tbody tr th:only-of-type {\n",
              "        vertical-align: middle;\n",
              "    }\n",
              "\n",
              "    .dataframe tbody tr th {\n",
              "        vertical-align: top;\n",
              "    }\n",
              "\n",
              "    .dataframe thead th {\n",
              "        text-align: right;\n",
              "    }\n",
              "</style>\n",
              "<table border=\"1\" class=\"dataframe\">\n",
              "  <thead>\n",
              "    <tr style=\"text-align: right;\">\n",
              "      <th></th>\n",
              "      <th>ID</th>\n",
              "      <th>Case Number</th>\n",
              "      <th>Date</th>\n",
              "      <th>Block</th>\n",
              "      <th>IUCR</th>\n",
              "      <th>Primary Type</th>\n",
              "      <th>Description</th>\n",
              "      <th>Location Description</th>\n",
              "      <th>Arrest</th>\n",
              "      <th>Domestic</th>\n",
              "      <th>...</th>\n",
              "      <th>Ward</th>\n",
              "      <th>Community Area</th>\n",
              "      <th>FBI Code</th>\n",
              "      <th>X Coordinate</th>\n",
              "      <th>Y Coordinate</th>\n",
              "      <th>Year</th>\n",
              "      <th>Updated On</th>\n",
              "      <th>Latitude</th>\n",
              "      <th>Longitude</th>\n",
              "      <th>Location</th>\n",
              "    </tr>\n",
              "  </thead>\n",
              "  <tbody>\n",
              "    <tr>\n",
              "      <th>0</th>\n",
              "      <td>13130561</td>\n",
              "      <td>JG329032</td>\n",
              "      <td>01/01/2014 12:00:00 AM</td>\n",
              "      <td>033XX W LEXINGTON ST</td>\n",
              "      <td>1562</td>\n",
              "      <td>SEX OFFENSE</td>\n",
              "      <td>AGGRAVATED CRIMINAL SEXUAL ABUSE</td>\n",
              "      <td>APARTMENT</td>\n",
              "      <td>False</td>\n",
              "      <td>True</td>\n",
              "      <td>...</td>\n",
              "      <td>24.0</td>\n",
              "      <td>27.0</td>\n",
              "      <td>17</td>\n",
              "      <td>NaN</td>\n",
              "      <td>NaN</td>\n",
              "      <td>2014</td>\n",
              "      <td>07/06/2023 03:48:21 PM</td>\n",
              "      <td>NaN</td>\n",
              "      <td>NaN</td>\n",
              "      <td>NaN</td>\n",
              "    </tr>\n",
              "    <tr>\n",
              "      <th>1</th>\n",
              "      <td>10778567</td>\n",
              "      <td>HZ545087</td>\n",
              "      <td>01/01/2014 12:00:00 AM</td>\n",
              "      <td>019XX E 79TH ST</td>\n",
              "      <td>1585</td>\n",
              "      <td>SEX OFFENSE</td>\n",
              "      <td>OTHER</td>\n",
              "      <td>APARTMENT</td>\n",
              "      <td>False</td>\n",
              "      <td>True</td>\n",
              "      <td>...</td>\n",
              "      <td>8.0</td>\n",
              "      <td>43.0</td>\n",
              "      <td>17</td>\n",
              "      <td>NaN</td>\n",
              "      <td>NaN</td>\n",
              "      <td>2014</td>\n",
              "      <td>09/07/2021 03:41:02 PM</td>\n",
              "      <td>NaN</td>\n",
              "      <td>NaN</td>\n",
              "      <td>NaN</td>\n",
              "    </tr>\n",
              "    <tr>\n",
              "      <th>2</th>\n",
              "      <td>12357943</td>\n",
              "      <td>JE220843</td>\n",
              "      <td>01/01/2014 12:00:00 AM</td>\n",
              "      <td>026XX W 13TH ST</td>\n",
              "      <td>1752</td>\n",
              "      <td>OFFENSE INVOLVING CHILDREN</td>\n",
              "      <td>AGGRAVATED CRIMINAL SEXUAL ABUSE BY FAMILY MEMBER</td>\n",
              "      <td>APARTMENT</td>\n",
              "      <td>False</td>\n",
              "      <td>True</td>\n",
              "      <td>...</td>\n",
              "      <td>28.0</td>\n",
              "      <td>29.0</td>\n",
              "      <td>17</td>\n",
              "      <td>NaN</td>\n",
              "      <td>NaN</td>\n",
              "      <td>2014</td>\n",
              "      <td>05/06/2021 03:40:12 PM</td>\n",
              "      <td>NaN</td>\n",
              "      <td>NaN</td>\n",
              "      <td>NaN</td>\n",
              "    </tr>\n",
              "    <tr>\n",
              "      <th>3</th>\n",
              "      <td>11729541</td>\n",
              "      <td>JC314736</td>\n",
              "      <td>01/01/2014 12:00:00 AM</td>\n",
              "      <td>045XX N HAZEL ST</td>\n",
              "      <td>1154</td>\n",
              "      <td>DECEPTIVE PRACTICE</td>\n",
              "      <td>FINANCIAL IDENTITY THEFT $300 AND UNDER</td>\n",
              "      <td>APARTMENT</td>\n",
              "      <td>False</td>\n",
              "      <td>False</td>\n",
              "      <td>...</td>\n",
              "      <td>46.0</td>\n",
              "      <td>3.0</td>\n",
              "      <td>11</td>\n",
              "      <td>NaN</td>\n",
              "      <td>NaN</td>\n",
              "      <td>2014</td>\n",
              "      <td>06/21/2019 03:40:42 PM</td>\n",
              "      <td>NaN</td>\n",
              "      <td>NaN</td>\n",
              "      <td>NaN</td>\n",
              "    </tr>\n",
              "    <tr>\n",
              "      <th>4</th>\n",
              "      <td>12729039</td>\n",
              "      <td>JF278612</td>\n",
              "      <td>01/01/2014 12:00:00 AM</td>\n",
              "      <td>042XX W MONROE ST</td>\n",
              "      <td>1754</td>\n",
              "      <td>OFFENSE INVOLVING CHILDREN</td>\n",
              "      <td>AGGRAVATED SEXUAL ASSAULT OF CHILD BY FAMILY M...</td>\n",
              "      <td>RESIDENCE</td>\n",
              "      <td>False</td>\n",
              "      <td>True</td>\n",
              "      <td>...</td>\n",
              "      <td>28.0</td>\n",
              "      <td>26.0</td>\n",
              "      <td>02</td>\n",
              "      <td>NaN</td>\n",
              "      <td>NaN</td>\n",
              "      <td>2014</td>\n",
              "      <td>11/16/2023 03:40:49 PM</td>\n",
              "      <td>NaN</td>\n",
              "      <td>NaN</td>\n",
              "      <td>NaN</td>\n",
              "    </tr>\n",
              "  </tbody>\n",
              "</table>\n",
              "<p>5 rows × 22 columns</p>\n",
              "</div>\n",
              "    <div class=\"colab-df-buttons\">\n",
              "\n",
              "  <div class=\"colab-df-container\">\n",
              "    <button class=\"colab-df-convert\" onclick=\"convertToInteractive('df-b8ab3021-fb62-4c09-a59d-5c8e9ca842ec')\"\n",
              "            title=\"Convert this dataframe to an interactive table.\"\n",
              "            style=\"display:none;\">\n",
              "\n",
              "  <svg xmlns=\"http://www.w3.org/2000/svg\" height=\"24px\" viewBox=\"0 -960 960 960\">\n",
              "    <path d=\"M120-120v-720h720v720H120Zm60-500h600v-160H180v160Zm220 220h160v-160H400v160Zm0 220h160v-160H400v160ZM180-400h160v-160H180v160Zm440 0h160v-160H620v160ZM180-180h160v-160H180v160Zm440 0h160v-160H620v160Z\"/>\n",
              "  </svg>\n",
              "    </button>\n",
              "\n",
              "  <style>\n",
              "    .colab-df-container {\n",
              "      display:flex;\n",
              "      gap: 12px;\n",
              "    }\n",
              "\n",
              "    .colab-df-convert {\n",
              "      background-color: #E8F0FE;\n",
              "      border: none;\n",
              "      border-radius: 50%;\n",
              "      cursor: pointer;\n",
              "      display: none;\n",
              "      fill: #1967D2;\n",
              "      height: 32px;\n",
              "      padding: 0 0 0 0;\n",
              "      width: 32px;\n",
              "    }\n",
              "\n",
              "    .colab-df-convert:hover {\n",
              "      background-color: #E2EBFA;\n",
              "      box-shadow: 0px 1px 2px rgba(60, 64, 67, 0.3), 0px 1px 3px 1px rgba(60, 64, 67, 0.15);\n",
              "      fill: #174EA6;\n",
              "    }\n",
              "\n",
              "    .colab-df-buttons div {\n",
              "      margin-bottom: 4px;\n",
              "    }\n",
              "\n",
              "    [theme=dark] .colab-df-convert {\n",
              "      background-color: #3B4455;\n",
              "      fill: #D2E3FC;\n",
              "    }\n",
              "\n",
              "    [theme=dark] .colab-df-convert:hover {\n",
              "      background-color: #434B5C;\n",
              "      box-shadow: 0px 1px 3px 1px rgba(0, 0, 0, 0.15);\n",
              "      filter: drop-shadow(0px 1px 2px rgba(0, 0, 0, 0.3));\n",
              "      fill: #FFFFFF;\n",
              "    }\n",
              "  </style>\n",
              "\n",
              "    <script>\n",
              "      const buttonEl =\n",
              "        document.querySelector('#df-b8ab3021-fb62-4c09-a59d-5c8e9ca842ec button.colab-df-convert');\n",
              "      buttonEl.style.display =\n",
              "        google.colab.kernel.accessAllowed ? 'block' : 'none';\n",
              "\n",
              "      async function convertToInteractive(key) {\n",
              "        const element = document.querySelector('#df-b8ab3021-fb62-4c09-a59d-5c8e9ca842ec');\n",
              "        const dataTable =\n",
              "          await google.colab.kernel.invokeFunction('convertToInteractive',\n",
              "                                                    [key], {});\n",
              "        if (!dataTable) return;\n",
              "\n",
              "        const docLinkHtml = 'Like what you see? Visit the ' +\n",
              "          '<a target=\"_blank\" href=https://colab.research.google.com/notebooks/data_table.ipynb>data table notebook</a>'\n",
              "          + ' to learn more about interactive tables.';\n",
              "        element.innerHTML = '';\n",
              "        dataTable['output_type'] = 'display_data';\n",
              "        await google.colab.output.renderOutput(dataTable, element);\n",
              "        const docLink = document.createElement('div');\n",
              "        docLink.innerHTML = docLinkHtml;\n",
              "        element.appendChild(docLink);\n",
              "      }\n",
              "    </script>\n",
              "  </div>\n",
              "\n",
              "\n",
              "<div id=\"df-58ca226c-cbad-4952-8bd7-0dd91dc6c112\">\n",
              "  <button class=\"colab-df-quickchart\" onclick=\"quickchart('df-58ca226c-cbad-4952-8bd7-0dd91dc6c112')\"\n",
              "            title=\"Suggest charts\"\n",
              "            style=\"display:none;\">\n",
              "\n",
              "<svg xmlns=\"http://www.w3.org/2000/svg\" height=\"24px\"viewBox=\"0 0 24 24\"\n",
              "     width=\"24px\">\n",
              "    <g>\n",
              "        <path d=\"M19 3H5c-1.1 0-2 .9-2 2v14c0 1.1.9 2 2 2h14c1.1 0 2-.9 2-2V5c0-1.1-.9-2-2-2zM9 17H7v-7h2v7zm4 0h-2V7h2v10zm4 0h-2v-4h2v4z\"/>\n",
              "    </g>\n",
              "</svg>\n",
              "  </button>\n",
              "\n",
              "<style>\n",
              "  .colab-df-quickchart {\n",
              "      --bg-color: #E8F0FE;\n",
              "      --fill-color: #1967D2;\n",
              "      --hover-bg-color: #E2EBFA;\n",
              "      --hover-fill-color: #174EA6;\n",
              "      --disabled-fill-color: #AAA;\n",
              "      --disabled-bg-color: #DDD;\n",
              "  }\n",
              "\n",
              "  [theme=dark] .colab-df-quickchart {\n",
              "      --bg-color: #3B4455;\n",
              "      --fill-color: #D2E3FC;\n",
              "      --hover-bg-color: #434B5C;\n",
              "      --hover-fill-color: #FFFFFF;\n",
              "      --disabled-bg-color: #3B4455;\n",
              "      --disabled-fill-color: #666;\n",
              "  }\n",
              "\n",
              "  .colab-df-quickchart {\n",
              "    background-color: var(--bg-color);\n",
              "    border: none;\n",
              "    border-radius: 50%;\n",
              "    cursor: pointer;\n",
              "    display: none;\n",
              "    fill: var(--fill-color);\n",
              "    height: 32px;\n",
              "    padding: 0;\n",
              "    width: 32px;\n",
              "  }\n",
              "\n",
              "  .colab-df-quickchart:hover {\n",
              "    background-color: var(--hover-bg-color);\n",
              "    box-shadow: 0 1px 2px rgba(60, 64, 67, 0.3), 0 1px 3px 1px rgba(60, 64, 67, 0.15);\n",
              "    fill: var(--button-hover-fill-color);\n",
              "  }\n",
              "\n",
              "  .colab-df-quickchart-complete:disabled,\n",
              "  .colab-df-quickchart-complete:disabled:hover {\n",
              "    background-color: var(--disabled-bg-color);\n",
              "    fill: var(--disabled-fill-color);\n",
              "    box-shadow: none;\n",
              "  }\n",
              "\n",
              "  .colab-df-spinner {\n",
              "    border: 2px solid var(--fill-color);\n",
              "    border-color: transparent;\n",
              "    border-bottom-color: var(--fill-color);\n",
              "    animation:\n",
              "      spin 1s steps(1) infinite;\n",
              "  }\n",
              "\n",
              "  @keyframes spin {\n",
              "    0% {\n",
              "      border-color: transparent;\n",
              "      border-bottom-color: var(--fill-color);\n",
              "      border-left-color: var(--fill-color);\n",
              "    }\n",
              "    20% {\n",
              "      border-color: transparent;\n",
              "      border-left-color: var(--fill-color);\n",
              "      border-top-color: var(--fill-color);\n",
              "    }\n",
              "    30% {\n",
              "      border-color: transparent;\n",
              "      border-left-color: var(--fill-color);\n",
              "      border-top-color: var(--fill-color);\n",
              "      border-right-color: var(--fill-color);\n",
              "    }\n",
              "    40% {\n",
              "      border-color: transparent;\n",
              "      border-right-color: var(--fill-color);\n",
              "      border-top-color: var(--fill-color);\n",
              "    }\n",
              "    60% {\n",
              "      border-color: transparent;\n",
              "      border-right-color: var(--fill-color);\n",
              "    }\n",
              "    80% {\n",
              "      border-color: transparent;\n",
              "      border-right-color: var(--fill-color);\n",
              "      border-bottom-color: var(--fill-color);\n",
              "    }\n",
              "    90% {\n",
              "      border-color: transparent;\n",
              "      border-bottom-color: var(--fill-color);\n",
              "    }\n",
              "  }\n",
              "</style>\n",
              "\n",
              "  <script>\n",
              "    async function quickchart(key) {\n",
              "      const quickchartButtonEl =\n",
              "        document.querySelector('#' + key + ' button');\n",
              "      quickchartButtonEl.disabled = true;  // To prevent multiple clicks.\n",
              "      quickchartButtonEl.classList.add('colab-df-spinner');\n",
              "      try {\n",
              "        const charts = await google.colab.kernel.invokeFunction(\n",
              "            'suggestCharts', [key], {});\n",
              "      } catch (error) {\n",
              "        console.error('Error during call to suggestCharts:', error);\n",
              "      }\n",
              "      quickchartButtonEl.classList.remove('colab-df-spinner');\n",
              "      quickchartButtonEl.classList.add('colab-df-quickchart-complete');\n",
              "    }\n",
              "    (() => {\n",
              "      let quickchartButtonEl =\n",
              "        document.querySelector('#df-58ca226c-cbad-4952-8bd7-0dd91dc6c112 button');\n",
              "      quickchartButtonEl.style.display =\n",
              "        google.colab.kernel.accessAllowed ? 'block' : 'none';\n",
              "    })();\n",
              "  </script>\n",
              "</div>\n",
              "\n",
              "    </div>\n",
              "  </div>\n"
            ],
            "application/vnd.google.colaboratory.intrinsic+json": {
              "type": "dataframe",
              "variable_name": "df"
            }
          },
          "metadata": {},
          "execution_count": 52
        }
      ]
    },
    {
      "cell_type": "code",
      "source": [
        "districts = gpd.read_file('poldist.shp')\n",
        "districts = districts.to_crs('EPSG:4326')"
      ],
      "metadata": {
        "id": "ORsp9AU0h2Mq"
      },
      "execution_count": null,
      "outputs": []
    },
    {
      "cell_type": "code",
      "source": [
        "print(districts.columns)"
      ],
      "metadata": {
        "colab": {
          "base_uri": "https://localhost:8080/"
        },
        "id": "6kGGrMrWjASw",
        "outputId": "70b359f6-88fa-4405-91b8-ae609677925f"
      },
      "execution_count": null,
      "outputs": [
        {
          "output_type": "stream",
          "name": "stdout",
          "text": [
            "Index(['DISTNO', 'DISTNAME', 'geometry'], dtype='object')\n"
          ]
        }
      ]
    },
    {
      "cell_type": "code",
      "source": [
        "df['Date'] = pd.to_datetime(df['Date'])\n",
        "df['YearMonth'] = df['Date'].dt.to_period('M')"
      ],
      "metadata": {
        "id": "oj8icCdphy73"
      },
      "execution_count": null,
      "outputs": []
    },
    {
      "cell_type": "code",
      "source": [
        "df['geometry'] = [Point(xy) for xy in zip(df['Longitude'], df['Latitude'])]\n",
        "geo_df = gpd.GeoDataFrame(df, geometry='geometry', crs='EPSG:4326')\n"
      ],
      "metadata": {
        "id": "tQfJRYytijEH"
      },
      "execution_count": null,
      "outputs": []
    },
    {
      "cell_type": "code",
      "source": [
        "top_types = df['Primary Type'].value_counts().nlargest(3).index\n",
        "top_types"
      ],
      "metadata": {
        "colab": {
          "base_uri": "https://localhost:8080/"
        },
        "id": "WP_7D9vXJic2",
        "outputId": "65878688-52bc-4b12-ba56-20cf42759751"
      },
      "execution_count": null,
      "outputs": [
        {
          "output_type": "execute_result",
          "data": {
            "text/plain": [
              "Index(['THEFT', 'BATTERY', 'CRIMINAL DAMAGE'], dtype='object')"
            ]
          },
          "metadata": {},
          "execution_count": 54
        }
      ]
    },
    {
      "cell_type": "code",
      "source": [
        "filtered_df = df[df['Primary Type'].isin(top_types)]"
      ],
      "metadata": {
        "id": "Rzvpwm4vKGWI"
      },
      "execution_count": null,
      "outputs": []
    },
    {
      "cell_type": "code",
      "source": [
        "filtered_df['geometry'] = [Point(xy) for xy in zip(filtered_df['Longitude'], filtered_df['Latitude'])]\n",
        "geo_df = gpd.GeoDataFrame(filtered_df, geometry='geometry', crs='EPSG:4326')\n",
        "\n",
        "cases_with_district = gpd.sjoin(geo_df, districts, how='left', predicate='within')\n",
        "\n",
        "monthly_district_type_cases = cases_with_district.groupby(['YearMonth', 'DISTNO', 'Primary Type']).size()\n",
        "\n",
        "monthly_district_type_cases_df = monthly_district_type_cases.reset_index(name='CaseCount')\n",
        "\n",
        "all_periods = pd.period_range(filtered_df['Date'].min(), filtered_df['Date'].max(), freq='M')\n",
        "all_districts = districts['DISTNO'].unique()\n",
        "\n",
        "idx = pd.MultiIndex.from_product([all_periods, all_districts, top_types], names=['YearMonth', 'DISTNO', 'Primary Type'])\n",
        "monthly_district_type_cases_df = monthly_district_type_cases_df.set_index(['YearMonth', 'DISTNO', 'Primary Type']).reindex(idx, fill_value=0).reset_index()"
      ],
      "metadata": {
        "colab": {
          "base_uri": "https://localhost:8080/"
        },
        "id": "MKRyd5FhQmr5",
        "outputId": "959cf329-fc6a-491f-d3ef-18d8b69d580d"
      },
      "execution_count": null,
      "outputs": [
        {
          "output_type": "stream",
          "name": "stderr",
          "text": [
            "<ipython-input-56-e3b494df923f>:1: SettingWithCopyWarning: \n",
            "A value is trying to be set on a copy of a slice from a DataFrame.\n",
            "Try using .loc[row_indexer,col_indexer] = value instead\n",
            "\n",
            "See the caveats in the documentation: https://pandas.pydata.org/pandas-docs/stable/user_guide/indexing.html#returning-a-view-versus-a-copy\n",
            "  filtered_df['geometry'] = [Point(xy) for xy in zip(filtered_df['Longitude'], filtered_df['Latitude'])]\n"
          ]
        }
      ]
    },
    {
      "cell_type": "code",
      "source": [
        "monthly_district_type_cases_df.to_csv('monthly_3type_long.csv', index=False)"
      ],
      "metadata": {
        "id": "ipsLwoKxWM2w"
      },
      "execution_count": null,
      "outputs": []
    },
    {
      "cell_type": "code",
      "source": [
        "monthly_district_type_cases_df['DISTNO'] = monthly_district_type_cases_df['DISTNO'].astype(str)\n",
        "\n",
        "for primary_type in monthly_district_type_cases_df['Primary Type'].unique():\n",
        "    subset = monthly_district_type_cases_df[monthly_district_type_cases_df['Primary Type'] == primary_type]\n",
        "    wide_format = subset.pivot(index='YearMonth', columns='DISTNO', values='CaseCount')\n",
        "    ordered_columns = sorted(wide_format.columns, key=lambda x: (x.isdigit(), int(x) if x.isdigit() else x))\n",
        "    wide_format = wide_format[ordered_columns]\n",
        "    output_filename = f'{primary_type}_wide_format.csv'\n",
        "    wide_format.to_csv(output_filename)\n",
        "\n",
        "    print(f\"Saved {primary_type} data to {output_filename}\")"
      ],
      "metadata": {
        "colab": {
          "base_uri": "https://localhost:8080/"
        },
        "id": "Q7UiS5upLgMJ",
        "outputId": "9d1e8bf9-575e-493c-c443-dec5bc143477"
      },
      "execution_count": null,
      "outputs": [
        {
          "output_type": "stream",
          "name": "stdout",
          "text": [
            "Saved THEFT data to THEFT_wide_format.csv\n",
            "Saved BATTERY data to BATTERY_wide_format.csv\n",
            "Saved CRIMINAL DAMAGE data to CRIMINAL DAMAGE_wide_format.csv\n"
          ]
        }
      ]
    }
  ]
}